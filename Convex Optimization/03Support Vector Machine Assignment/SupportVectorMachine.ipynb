{
 "cells": [
  {
   "cell_type": "markdown",
   "metadata": {},
   "source": [
    "## Support Vector Machine  \n",
    "Saul Garcia"
   ]
  },
  {
   "cell_type": "code",
   "execution_count": 127,
   "metadata": {
    "collapsed": true
   },
   "outputs": [],
   "source": [
    "import pandas\n",
    "from cvxpy import *\n",
    "import numpy as np\n",
    "import math\n",
    "import matplotlib.pyplot as plt"
   ]
  },
  {
   "cell_type": "markdown",
   "metadata": {},
   "source": [
    "Function"
   ]
  },
  {
   "cell_type": "code",
   "execution_count": 128,
   "metadata": {
    "collapsed": false
   },
   "outputs": [],
   "source": [
    "def threshold(x):\n",
    "    if x>=0:\n",
    "        return 1\n",
    "    else:\n",
    "        return -1\n",
    "thresholdfunc =np.vectorize(threshold)\n"
   ]
  },
  {
   "cell_type": "code",
   "execution_count": 129,
   "metadata": {
    "collapsed": false
   },
   "outputs": [],
   "source": [
    "#Importing Data\n",
    "\n",
    "#Training Data\n",
    "trainx = np.genfromtxt('data.txt',delimiter=\" \",usecols=[0,1,2,3])[0:800,]\n",
    "trainy = np.genfromtxt('data.txt',delimiter=\" \",usecols=[6])[0:800,]\n",
    "#Testing Data\n",
    "testx = np.genfromtxt('data.txt',delimiter=\" \",usecols=[0,1,2,3])[800:1000,]\n",
    "testy = np.genfromtxt('data.txt',delimiter=\" \",usecols=[6])[800:1000,]"
   ]
  },
  {
   "cell_type": "code",
   "execution_count": 130,
   "metadata": {
    "collapsed": false
   },
   "outputs": [],
   "source": [
    "#Input for optimization\n",
    "A=trainx                   #input training data\n",
    "D=np.diag(trainy)          #labels training data\n",
    "[m,n] = np.shape(trainx)   #dimensions\n",
    "e=np.ones(m)\n",
    "v= 10\n",
    "\n",
    "#Variables to optimize\n",
    "y= Variable(m)\n",
    "gamma=Variable()\n",
    "w= Variable(n)"
   ]
  },
  {
   "cell_type": "code",
   "execution_count": 131,
   "metadata": {
    "collapsed": false
   },
   "outputs": [
    {
     "data": {
      "text/plain": [
       "2393.7778048185587"
      ]
     },
     "execution_count": 131,
     "metadata": {},
     "output_type": "execute_result"
    }
   ],
   "source": [
    "#Problem\n",
    "objective = Minimize(v*e.T*y + .5*power(norm(w),2))\n",
    "constraints = [D*(A*w-e*gamma)+y >= e, y>=0]\n",
    "prob = Problem(objective, constraints)\n",
    "prob.solve()"
   ]
  },
  {
   "cell_type": "code",
   "execution_count": 132,
   "metadata": {
    "collapsed": false
   },
   "outputs": [],
   "source": [
    "#Prediction on Testing Dataset\n",
    "A_test=testx\n",
    "\n",
    "model= A_test*w.value - gamma.value\n",
    "pred= thresholdfunc(model)"
   ]
  },
  {
   "cell_type": "markdown",
   "metadata": {},
   "source": [
    "Measuring Error"
   ]
  },
  {
   "cell_type": "code",
   "execution_count": 133,
   "metadata": {
    "collapsed": false
   },
   "outputs": [
    {
     "name": "stdout",
     "output_type": "stream",
     "text": [
      "Accuracy: 0.925\n"
     ]
    },
    {
     "data": {
      "image/png": "[encoded data removed]",
      "text/plain": [
       "<matplotlib.figure.Figure at 0x111a1a910>"
      ]
     },
     "metadata": {},
     "output_type": "display_data"
    }
   ],
   "source": [
    "%matplotlib inline\n",
    "from sklearn import metrics\n",
    "from sklearn.metrics import confusion_matrix\n",
    "\n",
    "print \"Accuracy:\", metrics.accuracy_score(testy, pred)\n",
    "\n",
    "cm = confusion_matrix(testy, pred)\n",
    "\n",
    "plt.matshow(cm)\n",
    "plt.title('Confusion matrix')\n",
    "plt.colorbar()\n",
    "plt.ylabel('True label')\n",
    "plt.xlabel('Predicted label')\n",
    "plt.show()"
   ]
  },
  {
   "cell_type": "code",
   "execution_count": 134,
   "metadata": {
    "collapsed": false,
    "scrolled": true
   },
   "outputs": [
    {
     "name": "stdout",
     "output_type": "stream",
     "text": [
      "[[ 85   7]\n",
      " [  8 100]]\n"
     ]
    }
   ],
   "source": [
    "#Confusion Matrix\n",
    "print(cm)"
   ]
  },
  {
   "cell_type": "code",
   "execution_count": 135,
   "metadata": {
    "collapsed": false
   },
   "outputs": [
    {
     "data": {
      "text/plain": [
       "(0.925, 0.9139784946236559, 0.9239130434782609, 0.918918918918919)"
      ]
     },
     "execution_count": 135,
     "metadata": {},
     "output_type": "execute_result"
    }
   ],
   "source": [
    "#Ratios of Confusion Matrix\n",
    "TP=float(cm[0,0])\n",
    "FN=float(cm[0,1])\n",
    "FP=float(cm[1,0])\n",
    "TN=float(cm[1,1])\n",
    "Accuracy = (TP + TN)/ (TP+FN+FP+TN)\n",
    "Precision= TP/(TP+FP)\n",
    "Recall = TP/(TP+FN)\n",
    "F1=2*(Precision*Recall)/(Precision+Recall)\n",
    "\n",
    "Accuracy, Precision, Recall,F1"
   ]
  }
 ],
 "metadata": {
  "kernelspec": {
   "display_name": "Python 2",
   "language": "python",
   "name": "python2"
  },
  "language_info": {
   "codemirror_mode": {
    "name": "ipython",
    "version": 2
   },
   "file_extension": ".py",
   "mimetype": "text/x-python",
   "name": "python",
   "nbconvert_exporter": "python",
   "pygments_lexer": "ipython2",
   "version": "2.7.10"
  }
 },
 "nbformat": 4,
 "nbformat_minor": 0
}
